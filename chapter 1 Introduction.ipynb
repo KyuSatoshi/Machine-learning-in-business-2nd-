{
 "cells": [
  {
   "cell_type": "code",
   "execution_count": 1,
   "id": "e079f0c1-9f06-4827-8882-f4e6eeb82e6b",
   "metadata": {},
   "outputs": [],
   "source": [
    "import numpy as np\n",
    "import pandas as pd\n",
    "import matplotlib.pyplot as plt\n",
    "%matplotlib inline"
   ]
  },
  {
   "cell_type": "code",
   "execution_count": 2,
   "id": "9c210201-f880-433f-a38a-92b7e40bbccb",
   "metadata": {},
   "outputs": [],
   "source": [
    "# training data\n",
    "age = np.array([25,55,27,35,60,65,45,40,50,30])\n",
    "salary = np.array([135,260,105,220,240,265,270,300,265,105])*1000"
   ]
  },
  {
   "cell_type": "code",
   "execution_count": 3,
   "id": "6aecfae5-905e-4e7e-b497-cf2e3ee645ab",
   "metadata": {},
   "outputs": [],
   "source": [
    "data = pd.DataFrame([age,salary],index=[\"Age\",\"Salary\"]).T"
   ]
  },
  {
   "cell_type": "code",
   "execution_count": 4,
   "id": "44e7b691-851a-4cbe-baf0-ddbd864de900",
   "metadata": {},
   "outputs": [],
   "source": [
    "data.sort_values(by=\"Age\",inplace=True)  # 画线图需要"
   ]
  },
  {
   "cell_type": "code",
   "execution_count": 5,
   "id": "86e5aead-38e6-49d7-a070-b2d9c19c36d0",
   "metadata": {},
   "outputs": [
    {
     "data": {
      "text/html": [
       "<div>\n",
       "<style scoped>\n",
       "    .dataframe tbody tr th:only-of-type {\n",
       "        vertical-align: middle;\n",
       "    }\n",
       "\n",
       "    .dataframe tbody tr th {\n",
       "        vertical-align: top;\n",
       "    }\n",
       "\n",
       "    .dataframe thead th {\n",
       "        text-align: right;\n",
       "    }\n",
       "</style>\n",
       "<table border=\"1\" class=\"dataframe\">\n",
       "  <thead>\n",
       "    <tr style=\"text-align: right;\">\n",
       "      <th></th>\n",
       "      <th>Age</th>\n",
       "      <th>Salary</th>\n",
       "    </tr>\n",
       "  </thead>\n",
       "  <tbody>\n",
       "    <tr>\n",
       "      <th>0</th>\n",
       "      <td>25</td>\n",
       "      <td>135000</td>\n",
       "    </tr>\n",
       "    <tr>\n",
       "      <th>2</th>\n",
       "      <td>27</td>\n",
       "      <td>105000</td>\n",
       "    </tr>\n",
       "    <tr>\n",
       "      <th>9</th>\n",
       "      <td>30</td>\n",
       "      <td>105000</td>\n",
       "    </tr>\n",
       "    <tr>\n",
       "      <th>3</th>\n",
       "      <td>35</td>\n",
       "      <td>220000</td>\n",
       "    </tr>\n",
       "    <tr>\n",
       "      <th>7</th>\n",
       "      <td>40</td>\n",
       "      <td>300000</td>\n",
       "    </tr>\n",
       "    <tr>\n",
       "      <th>6</th>\n",
       "      <td>45</td>\n",
       "      <td>270000</td>\n",
       "    </tr>\n",
       "    <tr>\n",
       "      <th>8</th>\n",
       "      <td>50</td>\n",
       "      <td>265000</td>\n",
       "    </tr>\n",
       "    <tr>\n",
       "      <th>1</th>\n",
       "      <td>55</td>\n",
       "      <td>260000</td>\n",
       "    </tr>\n",
       "    <tr>\n",
       "      <th>4</th>\n",
       "      <td>60</td>\n",
       "      <td>240000</td>\n",
       "    </tr>\n",
       "    <tr>\n",
       "      <th>5</th>\n",
       "      <td>65</td>\n",
       "      <td>265000</td>\n",
       "    </tr>\n",
       "  </tbody>\n",
       "</table>\n",
       "</div>"
      ],
      "text/plain": [
       "   Age  Salary\n",
       "0   25  135000\n",
       "2   27  105000\n",
       "9   30  105000\n",
       "3   35  220000\n",
       "7   40  300000\n",
       "6   45  270000\n",
       "8   50  265000\n",
       "1   55  260000\n",
       "4   60  240000\n",
       "5   65  265000"
      ]
     },
     "execution_count": 5,
     "metadata": {},
     "output_type": "execute_result"
    }
   ],
   "source": [
    "data"
   ]
  },
  {
   "cell_type": "code",
   "execution_count": 6,
   "id": "a6097769-b2d5-4608-828e-55166daa2c03",
   "metadata": {},
   "outputs": [],
   "source": [
    "x = data[\"Age\"]\n",
    "y = data[\"Salary\"]"
   ]
  },
  {
   "cell_type": "code",
   "execution_count": 7,
   "id": "8a67c47f-8ba7-449a-bae7-2641e9dd2d82",
   "metadata": {},
   "outputs": [
    {
     "data": {
      "image/png": "[encoded data removed]",
      "text/plain": [
       "<Figure size 640x480 with 1 Axes>"
      ]
     },
     "metadata": {},
     "output_type": "display_data"
    }
   ],
   "source": [
    "plt.scatter(x,y)\n",
    "plt.xlim((20,70))\n",
    "plt.ylim((0,350000))\n",
    "plt.xlabel(r\"$Age(year)$\")\n",
    "plt.ylabel(r\"$Salary(\\$)$\")\n",
    "plt.show()"
   ]
  },
  {
   "cell_type": "code",
   "execution_count": 8,
   "id": "adbcfbb4-8c3f-408f-9f46-12d8ed756287",
   "metadata": {},
   "outputs": [],
   "source": [
    "# 不同回归次数\n",
    "\n",
    "degs = np.arange(1,6)\n",
    "regs = []  # 存系数\n",
    "sses = []  # 存残差平方和,sum of squares due to error\n",
    "for deg in degs:\n",
    "    reg = np.polyfit(x,y, deg=deg, full=True)\n",
    "    regs.append(reg[0])\n",
    "    sses.append(reg[1])"
   ]
  },
  {
   "cell_type": "code",
   "execution_count": 9,
   "id": "3c68bb97-6991-4fcf-a503-9c959f16286c",
   "metadata": {},
   "outputs": [
    {
     "data": {
      "text/plain": [
       "[array([ 3827.30520205, 51160.41527127]),\n",
       " array([-2.43288591e+02,  2.53771666e+04, -3.82171112e+05]),\n",
       " array([ 4.95418932e+00, -9.10652169e+02,  5.38603844e+04, -7.63999774e+05]),\n",
       " array([ 1.44700341e+00, -2.55709931e+02,  1.61107053e+04, -4.22004174e+05,\n",
       "         4.02874457e+06]),\n",
       " array([-1.09355058e-01,  2.59925927e+01, -2.40364225e+03,  1.07539453e+05,\n",
       "        -2.31216558e+06,  1.91984209e+07])]"
      ]
     },
     "execution_count": 9,
     "metadata": {},
     "output_type": "execute_result"
    }
   ],
   "source": [
    "regs  # 返回值的顺序为倒叙，如b5,b4,b3,b2,b1,b0"
   ]
  },
  {
   "cell_type": "code",
   "execution_count": 10,
   "id": "b26527ed-844f-4018-aad3-218f1061f6e5",
   "metadata": {},
   "outputs": [
    {
     "data": {
      "text/plain": [
       "[array([2.22586682e+10]),\n",
       " array([9.76069865e+09]),\n",
       " array([9.20938699e+09]),\n",
       " array([4.28664043e+09]),\n",
       " array([1.49820159e+09])]"
      ]
     },
     "execution_count": 10,
     "metadata": {},
     "output_type": "execute_result"
    }
   ],
   "source": [
    "sses"
   ]
  },
  {
   "cell_type": "code",
   "execution_count": 11,
   "id": "3eed97c6-5e53-4234-b94c-864b051b91f2",
   "metadata": {},
   "outputs": [],
   "source": [
    "for i in range(1,len(regs)+1):\n",
    "    ry = np.polyval(regs[i-1], x)  # 计算拟合y值\n",
    "    col = \"reg_{}\".format(i)\n",
    "    data[col] = ry"
   ]
  },
  {
   "cell_type": "code",
   "execution_count": 12,
   "id": "725ea37b-165d-4e88-88b1-0bc11a9977f2",
   "metadata": {},
   "outputs": [
    {
     "data": {
      "text/html": [
       "<div>\n",
       "<style scoped>\n",
       "    .dataframe tbody tr th:only-of-type {\n",
       "        vertical-align: middle;\n",
       "    }\n",
       "\n",
       "    .dataframe tbody tr th {\n",
       "        vertical-align: top;\n",
       "    }\n",
       "\n",
       "    .dataframe thead th {\n",
       "        text-align: right;\n",
       "    }\n",
       "</style>\n",
       "<table border=\"1\" class=\"dataframe\">\n",
       "  <thead>\n",
       "    <tr style=\"text-align: right;\">\n",
       "      <th></th>\n",
       "      <th>Age</th>\n",
       "      <th>Salary</th>\n",
       "      <th>reg_1</th>\n",
       "      <th>reg_2</th>\n",
       "      <th>reg_3</th>\n",
       "      <th>reg_4</th>\n",
       "      <th>reg_5</th>\n",
       "    </tr>\n",
       "  </thead>\n",
       "  <tbody>\n",
       "    <tr>\n",
       "      <th>0</th>\n",
       "      <td>25</td>\n",
       "      <td>135000</td>\n",
       "      <td>146843.045323</td>\n",
       "      <td>100202.683263</td>\n",
       "      <td>90761.437578</td>\n",
       "      <td>117599.052267</td>\n",
       "      <td>134965.391599</td>\n",
       "    </tr>\n",
       "    <tr>\n",
       "      <th>2</th>\n",
       "      <td>27</td>\n",
       "      <td>105000</td>\n",
       "      <td>154497.655727</td>\n",
       "      <td>125655.002926</td>\n",
       "      <td>123878.480992</td>\n",
       "      <td>115194.385607</td>\n",
       "      <td>99724.960602</td>\n",
       "    </tr>\n",
       "    <tr>\n",
       "      <th>9</th>\n",
       "      <td>30</td>\n",
       "      <td>105000</td>\n",
       "      <td>165979.571333</td>\n",
       "      <td>160184.153554</td>\n",
       "      <td>165987.916437</td>\n",
       "      <td>136158.724570</td>\n",
       "      <td>117292.624191</td>\n",
       "    </tr>\n",
       "    <tr>\n",
       "      <th>3</th>\n",
       "      <td>35</td>\n",
       "      <td>220000</td>\n",
       "      <td>185116.097343</td>\n",
       "      <td>208001.194288</td>\n",
       "      <td>217975.638763</td>\n",
       "      <td>202058.647399</td>\n",
       "      <td>213895.803158</td>\n",
       "    </tr>\n",
       "    <tr>\n",
       "      <th>7</th>\n",
       "      <td>40</td>\n",
       "      <td>300000</td>\n",
       "      <td>204252.623353</td>\n",
       "      <td>243653.805466</td>\n",
       "      <td>250440.246545</td>\n",
       "      <td>264599.205280</td>\n",
       "      <td>284897.913931</td>\n",
       "    </tr>\n",
       "    <tr>\n",
       "      <th>6</th>\n",
       "      <td>45</td>\n",
       "      <td>270000</td>\n",
       "      <td>223389.149364</td>\n",
       "      <td>267141.987086</td>\n",
       "      <td>267097.381774</td>\n",
       "      <td>294785.833904</td>\n",
       "      <td>293253.805515</td>\n",
       "    </tr>\n",
       "    <tr>\n",
       "      <th>8</th>\n",
       "      <td>50</td>\n",
       "      <td>265000</td>\n",
       "      <td>242525.675374</td>\n",
       "      <td>278465.739150</td>\n",
       "      <td>271662.686437</td>\n",
       "      <td>285329.020124</td>\n",
       "      <td>263742.043720</td>\n",
       "    </tr>\n",
       "    <tr>\n",
       "      <th>1</th>\n",
       "      <td>55</td>\n",
       "      <td>260000</td>\n",
       "      <td>261662.201384</td>\n",
       "      <td>277625.061657</td>\n",
       "      <td>267851.802524</td>\n",
       "      <td>250644.301955</td>\n",
       "      <td>241956.764398</td>\n",
       "    </tr>\n",
       "    <tr>\n",
       "      <th>4</th>\n",
       "      <td>60</td>\n",
       "      <td>240000</td>\n",
       "      <td>280798.727395</td>\n",
       "      <td>264619.954608</td>\n",
       "      <td>259380.372024</td>\n",
       "      <td>226852.268574</td>\n",
       "      <td>253299.526679</td>\n",
       "    </tr>\n",
       "    <tr>\n",
       "      <th>5</th>\n",
       "      <td>65</td>\n",
       "      <td>265000</td>\n",
       "      <td>299935.253405</td>\n",
       "      <td>239450.418001</td>\n",
       "      <td>249964.036926</td>\n",
       "      <td>271778.560322</td>\n",
       "      <td>261971.166208</td>\n",
       "    </tr>\n",
       "  </tbody>\n",
       "</table>\n",
       "</div>"
      ],
      "text/plain": [
       "   Age  Salary          reg_1          reg_2          reg_3          reg_4  \\\n",
       "0   25  135000  146843.045323  100202.683263   90761.437578  117599.052267   \n",
       "2   27  105000  154497.655727  125655.002926  123878.480992  115194.385607   \n",
       "9   30  105000  165979.571333  160184.153554  165987.916437  136158.724570   \n",
       "3   35  220000  185116.097343  208001.194288  217975.638763  202058.647399   \n",
       "7   40  300000  204252.623353  243653.805466  250440.246545  264599.205280   \n",
       "6   45  270000  223389.149364  267141.987086  267097.381774  294785.833904   \n",
       "8   50  265000  242525.675374  278465.739150  271662.686437  285329.020124   \n",
       "1   55  260000  261662.201384  277625.061657  267851.802524  250644.301955   \n",
       "4   60  240000  280798.727395  264619.954608  259380.372024  226852.268574   \n",
       "5   65  265000  299935.253405  239450.418001  249964.036926  271778.560322   \n",
       "\n",
       "           reg_5  \n",
       "0  134965.391599  \n",
       "2   99724.960602  \n",
       "9  117292.624191  \n",
       "3  213895.803158  \n",
       "7  284897.913931  \n",
       "6  293253.805515  \n",
       "8  263742.043720  \n",
       "1  241956.764398  \n",
       "4  253299.526679  \n",
       "5  261971.166208  "
      ]
     },
     "execution_count": 12,
     "metadata": {},
     "output_type": "execute_result"
    }
   ],
   "source": [
    "data"
   ]
  },
  {
   "cell_type": "code",
   "execution_count": 13,
   "id": "8a25354d-a581-4405-a945-33826269c9a4",
   "metadata": {},
   "outputs": [],
   "source": [
    "x = data[\"Age\"]\n",
    "y = data[\"Salary\"]\n",
    "y_1 = data[\"reg_1\"]\n",
    "y_2 = data[\"reg_2\"]\n",
    "y_3 = data[\"reg_3\"]\n",
    "y_4 = data[\"reg_4\"]\n",
    "y_5 = data[\"reg_5\"]"
   ]
  },
  {
   "cell_type": "code",
   "execution_count": 14,
   "id": "c60e7311-a767-4b52-94de-64805c20124d",
   "metadata": {},
   "outputs": [
    {
     "data": {
      "image/png": "[encoded data removed]",
      "text/plain": [
       "<Figure size 640x480 with 1 Axes>"
      ]
     },
     "metadata": {},
     "output_type": "display_data"
    }
   ],
   "source": [
    "# 绘制五次方的图\n",
    "\n",
    "plt.scatter(x,y,color='r')\n",
    "plt.scatter(x,y_5,color='g') \n",
    "plt.plot(x,y_5,lw=2)    # 如何使线条变平滑\n",
    "plt.xlim((20,70))\n",
    "plt.ylim((0,350000))\n",
    "plt.xlabel(r\"$Age(year)$\")\n",
    "plt.ylabel(r\"$Salary(\\$)$\")\n",
    "plt.show()"
   ]
  },
  {
   "cell_type": "code",
   "execution_count": 15,
   "id": "ac805f4f-753e-44d4-8aa3-7a348ca974c4",
   "metadata": {},
   "outputs": [
    {
     "data": {
      "image/png": "[encoded data removed]",
      "text/plain": [
       "<Figure size 640x480 with 1 Axes>"
      ]
     },
     "metadata": {},
     "output_type": "display_data"
    }
   ],
   "source": [
    "# 绘制五次方的平滑图\n",
    "\n",
    "plt.scatter(x,y,color='r')\n",
    "plt.scatter(x,y_5,color='g') \n",
    "\n",
    "poly = np.poly1d(regs[4])  # 用五次方拟合的参数\n",
    "# 生成更多的x值用于绘制平滑曲线\n",
    "xnew = np.linspace(x.min(), x.max(), 300)\n",
    "ynew = poly(xnew)\n",
    "plt.plot(xnew, ynew, lw=2)\n",
    "\n",
    "plt.xlim((20,70))\n",
    "plt.ylim((0,350000))\n",
    "plt.xlabel(r\"$Age(year)$\")\n",
    "plt.ylabel(r\"$Salary(\\$)$\")\n",
    "plt.show()"
   ]
  },
  {
   "cell_type": "code",
   "execution_count": 16,
   "id": "d337ad7b-90e9-47e3-8e7d-351a755e0260",
   "metadata": {},
   "outputs": [],
   "source": [
    "# 均方误差 Root mean squared error\n",
    "n = len(x)\n",
    "rmses = []\n",
    "for sse in sses:\n",
    "    rmses.append(np.sqrt(sse/(n-1)))"
   ]
  },
  {
   "cell_type": "code",
   "execution_count": 17,
   "id": "b2e5c1ae-ddd8-4763-a08b-affc82b97c25",
   "metadata": {},
   "outputs": [
    {
     "data": {
      "text/plain": [
       "[array([49731.13068124]),\n",
       " array([32932.08272044]),\n",
       " array([31988.51702527]),\n",
       " array([21824.14673362]),\n",
       " array([12902.20304437])]"
      ]
     },
     "execution_count": 17,
     "metadata": {},
     "output_type": "execute_result"
    }
   ],
   "source": [
    "rmses"
   ]
  },
  {
   "cell_type": "code",
   "execution_count": 18,
   "id": "7b665a93-c5e8-4828-8631-a27c6b159f10",
   "metadata": {},
   "outputs": [],
   "source": [
    "# validation data\n",
    "\n",
    "age_val = np.array([30,26,58,29,40,27,33,61,27,48])\n",
    "salary_val = np.array([166,78,310,100,260,150,140,220,86,276])*1000"
   ]
  },
  {
   "cell_type": "code",
   "execution_count": 19,
   "id": "bd6031f4-889d-4ac1-967c-3d2edb5eaaa7",
   "metadata": {},
   "outputs": [],
   "source": [
    "data_val = pd.DataFrame([age_val,salary_val],index=[\"Age\",\"Salary\"]).T"
   ]
  },
  {
   "cell_type": "code",
   "execution_count": 20,
   "id": "5ab7c185-dcb3-4ebc-9139-a2bf5e24e768",
   "metadata": {},
   "outputs": [
    {
     "data": {
      "text/html": [
       "<div>\n",
       "<style scoped>\n",
       "    .dataframe tbody tr th:only-of-type {\n",
       "        vertical-align: middle;\n",
       "    }\n",
       "\n",
       "    .dataframe tbody tr th {\n",
       "        vertical-align: top;\n",
       "    }\n",
       "\n",
       "    .dataframe thead th {\n",
       "        text-align: right;\n",
       "    }\n",
       "</style>\n",
       "<table border=\"1\" class=\"dataframe\">\n",
       "  <thead>\n",
       "    <tr style=\"text-align: right;\">\n",
       "      <th></th>\n",
       "      <th>Age</th>\n",
       "      <th>Salary</th>\n",
       "    </tr>\n",
       "  </thead>\n",
       "  <tbody>\n",
       "    <tr>\n",
       "      <th>0</th>\n",
       "      <td>30</td>\n",
       "      <td>166000</td>\n",
       "    </tr>\n",
       "    <tr>\n",
       "      <th>1</th>\n",
       "      <td>26</td>\n",
       "      <td>78000</td>\n",
       "    </tr>\n",
       "    <tr>\n",
       "      <th>2</th>\n",
       "      <td>58</td>\n",
       "      <td>310000</td>\n",
       "    </tr>\n",
       "    <tr>\n",
       "      <th>3</th>\n",
       "      <td>29</td>\n",
       "      <td>100000</td>\n",
       "    </tr>\n",
       "    <tr>\n",
       "      <th>4</th>\n",
       "      <td>40</td>\n",
       "      <td>260000</td>\n",
       "    </tr>\n",
       "    <tr>\n",
       "      <th>5</th>\n",
       "      <td>27</td>\n",
       "      <td>150000</td>\n",
       "    </tr>\n",
       "    <tr>\n",
       "      <th>6</th>\n",
       "      <td>33</td>\n",
       "      <td>140000</td>\n",
       "    </tr>\n",
       "    <tr>\n",
       "      <th>7</th>\n",
       "      <td>61</td>\n",
       "      <td>220000</td>\n",
       "    </tr>\n",
       "    <tr>\n",
       "      <th>8</th>\n",
       "      <td>27</td>\n",
       "      <td>86000</td>\n",
       "    </tr>\n",
       "    <tr>\n",
       "      <th>9</th>\n",
       "      <td>48</td>\n",
       "      <td>276000</td>\n",
       "    </tr>\n",
       "  </tbody>\n",
       "</table>\n",
       "</div>"
      ],
      "text/plain": [
       "   Age  Salary\n",
       "0   30  166000\n",
       "1   26   78000\n",
       "2   58  310000\n",
       "3   29  100000\n",
       "4   40  260000\n",
       "5   27  150000\n",
       "6   33  140000\n",
       "7   61  220000\n",
       "8   27   86000\n",
       "9   48  276000"
      ]
     },
     "execution_count": 20,
     "metadata": {},
     "output_type": "execute_result"
    }
   ],
   "source": [
    "data_val"
   ]
  },
  {
   "cell_type": "code",
   "execution_count": 21,
   "id": "8f2a04c0-6a6c-4d58-9b2d-6b353868550b",
   "metadata": {},
   "outputs": [],
   "source": [
    "cols = []\n",
    "\n",
    "for i in range(1,len(regs)+1):\n",
    "    ry_val = np.polyval(regs[i-1], data_val[\"Age\"])  # 计算拟合y值\n",
    "    col = \"reg_val_{}\".format(i)\n",
    "    data_val[col] = ry_val\n",
    "    cols.append(col)"
   ]
  },
  {
   "cell_type": "code",
   "execution_count": 22,
   "id": "47766b1a-f8eb-43a4-8be7-5e8d9d2a55a2",
   "metadata": {},
   "outputs": [
    {
     "data": {
      "text/html": [
       "<div>\n",
       "<style scoped>\n",
       "    .dataframe tbody tr th:only-of-type {\n",
       "        vertical-align: middle;\n",
       "    }\n",
       "\n",
       "    .dataframe tbody tr th {\n",
       "        vertical-align: top;\n",
       "    }\n",
       "\n",
       "    .dataframe thead th {\n",
       "        text-align: right;\n",
       "    }\n",
       "</style>\n",
       "<table border=\"1\" class=\"dataframe\">\n",
       "  <thead>\n",
       "    <tr style=\"text-align: right;\">\n",
       "      <th></th>\n",
       "      <th>Age</th>\n",
       "      <th>Salary</th>\n",
       "      <th>reg_val_1</th>\n",
       "      <th>reg_val_2</th>\n",
       "      <th>reg_val_3</th>\n",
       "      <th>reg_val_4</th>\n",
       "      <th>reg_val_5</th>\n",
       "    </tr>\n",
       "  </thead>\n",
       "  <tbody>\n",
       "    <tr>\n",
       "      <th>0</th>\n",
       "      <td>30</td>\n",
       "      <td>166000</td>\n",
       "      <td>165979.571333</td>\n",
       "      <td>160184.153554</td>\n",
       "      <td>165987.916437</td>\n",
       "      <td>136158.724570</td>\n",
       "      <td>117292.624191</td>\n",
       "    </tr>\n",
       "    <tr>\n",
       "      <th>1</th>\n",
       "      <td>26</td>\n",
       "      <td>78000</td>\n",
       "      <td>150670.350525</td>\n",
       "      <td>113172.131686</td>\n",
       "      <td>107844.184687</td>\n",
       "      <td>114360.895424</td>\n",
       "      <td>111072.331056</td>\n",
       "    </tr>\n",
       "    <tr>\n",
       "      <th>2</th>\n",
       "      <td>58</td>\n",
       "      <td>310000</td>\n",
       "      <td>273144.116990</td>\n",
       "      <td>271281.728974</td>\n",
       "      <td>263090.408727</td>\n",
       "      <td>231847.311916</td>\n",
       "      <td>245229.644193</td>\n",
       "    </tr>\n",
       "    <tr>\n",
       "      <th>3</th>\n",
       "      <td>29</td>\n",
       "      <td>100000</td>\n",
       "      <td>162152.266131</td>\n",
       "      <td>149161.013860</td>\n",
       "      <td>152920.621731</td>\n",
       "      <td>126655.173472</td>\n",
       "      <td>104937.280933</td>\n",
       "    </tr>\n",
       "    <tr>\n",
       "      <th>4</th>\n",
       "      <td>40</td>\n",
       "      <td>260000</td>\n",
       "      <td>204252.623353</td>\n",
       "      <td>243653.805466</td>\n",
       "      <td>250440.246545</td>\n",
       "      <td>264599.205280</td>\n",
       "      <td>284897.913931</td>\n",
       "    </tr>\n",
       "    <tr>\n",
       "      <th>5</th>\n",
       "      <td>27</td>\n",
       "      <td>150000</td>\n",
       "      <td>154497.655727</td>\n",
       "      <td>125655.002926</td>\n",
       "      <td>123878.480992</td>\n",
       "      <td>115194.385607</td>\n",
       "      <td>99724.960602</td>\n",
       "    </tr>\n",
       "    <tr>\n",
       "      <th>6</th>\n",
       "      <td>33</td>\n",
       "      <td>140000</td>\n",
       "      <td>177461.486939</td>\n",
       "      <td>190334.109541</td>\n",
       "      <td>199731.399529</td>\n",
       "      <td>173748.816741</td>\n",
       "      <td>173237.900276</td>\n",
       "    </tr>\n",
       "    <tr>\n",
       "      <th>7</th>\n",
       "      <td>61</td>\n",
       "      <td>220000</td>\n",
       "      <td>284626.032597</td>\n",
       "      <td>260559.201651</td>\n",
       "      <td>257453.796829</td>\n",
       "      <td>228107.631522</td>\n",
       "      <td>257932.166162</td>\n",
       "    </tr>\n",
       "    <tr>\n",
       "      <th>8</th>\n",
       "      <td>27</td>\n",
       "      <td>86000</td>\n",
       "      <td>154497.655727</td>\n",
       "      <td>125655.002926</td>\n",
       "      <td>123878.480992</td>\n",
       "      <td>115194.385607</td>\n",
       "      <td>99724.960602</td>\n",
       "    </tr>\n",
       "    <tr>\n",
       "      <th>9</th>\n",
       "      <td>48</td>\n",
       "      <td>276000</td>\n",
       "      <td>234871.064970</td>\n",
       "      <td>275395.969872</td>\n",
       "      <td>271049.783152</td>\n",
       "      <td>293432.557437</td>\n",
       "      <td>277161.448025</td>\n",
       "    </tr>\n",
       "  </tbody>\n",
       "</table>\n",
       "</div>"
      ],
      "text/plain": [
       "   Age  Salary      reg_val_1      reg_val_2      reg_val_3      reg_val_4  \\\n",
       "0   30  166000  165979.571333  160184.153554  165987.916437  136158.724570   \n",
       "1   26   78000  150670.350525  113172.131686  107844.184687  114360.895424   \n",
       "2   58  310000  273144.116990  271281.728974  263090.408727  231847.311916   \n",
       "3   29  100000  162152.266131  149161.013860  152920.621731  126655.173472   \n",
       "4   40  260000  204252.623353  243653.805466  250440.246545  264599.205280   \n",
       "5   27  150000  154497.655727  125655.002926  123878.480992  115194.385607   \n",
       "6   33  140000  177461.486939  190334.109541  199731.399529  173748.816741   \n",
       "7   61  220000  284626.032597  260559.201651  257453.796829  228107.631522   \n",
       "8   27   86000  154497.655727  125655.002926  123878.480992  115194.385607   \n",
       "9   48  276000  234871.064970  275395.969872  271049.783152  293432.557437   \n",
       "\n",
       "       reg_val_5  \n",
       "0  117292.624191  \n",
       "1  111072.331056  \n",
       "2  245229.644193  \n",
       "3  104937.280933  \n",
       "4  284897.913931  \n",
       "5   99724.960602  \n",
       "6  173237.900276  \n",
       "7  257932.166162  \n",
       "8   99724.960602  \n",
       "9  277161.448025  "
      ]
     },
     "execution_count": 22,
     "metadata": {},
     "output_type": "execute_result"
    }
   ],
   "source": [
    "data_val"
   ]
  },
  {
   "cell_type": "code",
   "execution_count": 23,
   "id": "7c7aabd4-c63e-4c01-864f-0ed6439a39cf",
   "metadata": {},
   "outputs": [],
   "source": [
    "# 手动计算验证资料的rmse\n",
    "rmses_val = []\n",
    "for i in range(len(regs)):\n",
    "    rmse_val = (data_val[\"Salary\"] - data_val[cols[i]]).std()\n",
    "    rmses_val.append(rmse_val)"
   ]
  },
  {
   "cell_type": "code",
   "execution_count": 24,
   "id": "7379b8b9-f7f7-4759-8019-a274ee3d72ab",
   "metadata": {},
   "outputs": [
    {
     "data": {
      "text/plain": [
       "[np.float64(49989.62442279352),\n",
       " np.float64(33553.77147604396),\n",
       " np.float64(35587.521486946964),\n",
       " np.float64(37426.63460751843),\n",
       " np.float64(38793.91269025202)]"
      ]
     },
     "execution_count": 24,
     "metadata": {},
     "output_type": "execute_result"
    }
   ],
   "source": [
    "rmses_val"
   ]
  },
  {
   "cell_type": "code",
   "execution_count": 25,
   "id": "b77ef572-7a92-4601-8473-682936aa5e41",
   "metadata": {},
   "outputs": [
    {
     "data": {
      "text/plain": [
       "[array([49731.13068124]),\n",
       " array([32932.08272044]),\n",
       " array([31988.51702527]),\n",
       " array([21824.14673362]),\n",
       " array([12902.20304437])]"
      ]
     },
     "execution_count": 25,
     "metadata": {},
     "output_type": "execute_result"
    }
   ],
   "source": [
    "rmses"
   ]
  },
  {
   "cell_type": "code",
   "execution_count": 26,
   "id": "fcc1c021-bc0f-49b8-a6f2-e143ec81be98",
   "metadata": {},
   "outputs": [
    {
     "name": "stdout",
     "output_type": "stream",
     "text": [
      "回归次数1,training data rmse 49731.13,validation data rmse 49989.62\n",
      "回归次数2,training data rmse 32932.08,validation data rmse 33553.77\n",
      "回归次数3,training data rmse 31988.52,validation data rmse 35587.52\n",
      "回归次数4,training data rmse 21824.15,validation data rmse 37426.63\n",
      "回归次数5,training data rmse 12902.20,validation data rmse 38793.91\n"
     ]
    }
   ],
   "source": [
    "# 汇总\n",
    "for i,(rmse,rmse_val) in enumerate(zip(rmses,rmses_val)):\n",
    "    print(\"回归次数{},training data rmse {:.2f},validation data rmse {:.2f}\".format(i+1,rmse[0],rmse_val))"
   ]
  },
  {
   "cell_type": "code",
   "execution_count": 27,
   "id": "a108872a-e688-4086-99fa-1a19278aab88",
   "metadata": {},
   "outputs": [],
   "source": [
    "# 回归次数为2的时候，验证资料均方误差变动较小，故二次方模型可能表现最好\n",
    "# training data的均方误差会越来越小，而validation data 均方误差由小变大时表明模型复杂度开始过高了"
   ]
  },
  {
   "cell_type": "code",
   "execution_count": 28,
   "id": "c9c3477e-85ef-4e8e-8c2a-9f8b3f23ee47",
   "metadata": {},
   "outputs": [],
   "source": [
    "# test data\n",
    "\n",
    "age_test = np.array([26,52,38,60,64,41,34,46,57,55])\n",
    "salary_test = np.array([110,278,314,302,261,227,200,233,311,298])*1000\n",
    "data_test = pd.DataFrame([age_test,salary_test],index=[\"Age\",\"Salary\"]).T\n",
    "ry_test = np.polyval(regs[1], data_test[\"Age\"])\n",
    "data_test[\"reg_2\"] = ry_test"
   ]
  },
  {
   "cell_type": "code",
   "execution_count": 29,
   "id": "f459206d-87a5-4b51-8971-dcb4f7155362",
   "metadata": {},
   "outputs": [
    {
     "data": {
      "text/html": [
       "<div>\n",
       "<style scoped>\n",
       "    .dataframe tbody tr th:only-of-type {\n",
       "        vertical-align: middle;\n",
       "    }\n",
       "\n",
       "    .dataframe tbody tr th {\n",
       "        vertical-align: top;\n",
       "    }\n",
       "\n",
       "    .dataframe thead th {\n",
       "        text-align: right;\n",
       "    }\n",
       "</style>\n",
       "<table border=\"1\" class=\"dataframe\">\n",
       "  <thead>\n",
       "    <tr style=\"text-align: right;\">\n",
       "      <th></th>\n",
       "      <th>Age</th>\n",
       "      <th>Salary</th>\n",
       "      <th>reg_2</th>\n",
       "    </tr>\n",
       "  </thead>\n",
       "  <tbody>\n",
       "    <tr>\n",
       "      <th>0</th>\n",
       "      <td>26</td>\n",
       "      <td>110000</td>\n",
       "      <td>113172.131686</td>\n",
       "    </tr>\n",
       "    <tr>\n",
       "      <th>1</th>\n",
       "      <td>52</td>\n",
       "      <td>278000</td>\n",
       "      <td>279589.199700</td>\n",
       "    </tr>\n",
       "    <tr>\n",
       "      <th>2</th>\n",
       "      <td>38</td>\n",
       "      <td>314000</td>\n",
       "      <td>230852.492542</td>\n",
       "    </tr>\n",
       "    <tr>\n",
       "      <th>3</th>\n",
       "      <td>60</td>\n",
       "      <td>302000</td>\n",
       "      <td>264619.954608</td>\n",
       "    </tr>\n",
       "    <tr>\n",
       "      <th>4</th>\n",
       "      <td>64</td>\n",
       "      <td>261000</td>\n",
       "      <td>245457.479687</td>\n",
       "    </tr>\n",
       "    <tr>\n",
       "      <th>5</th>\n",
       "      <td>41</td>\n",
       "      <td>227000</td>\n",
       "      <td>249324.596154</td>\n",
       "    </tr>\n",
       "    <tr>\n",
       "      <th>6</th>\n",
       "      <td>34</td>\n",
       "      <td>200000</td>\n",
       "      <td>199410.940506</td>\n",
       "    </tr>\n",
       "    <tr>\n",
       "      <th>7</th>\n",
       "      <td>46</td>\n",
       "      <td>233000</td>\n",
       "      <td>270379.891864</td>\n",
       "    </tr>\n",
       "    <tr>\n",
       "      <th>8</th>\n",
       "      <td>57</td>\n",
       "      <td>311000</td>\n",
       "      <td>273882.750384</td>\n",
       "    </tr>\n",
       "    <tr>\n",
       "      <th>9</th>\n",
       "      <td>55</td>\n",
       "      <td>298000</td>\n",
       "      <td>277625.061657</td>\n",
       "    </tr>\n",
       "  </tbody>\n",
       "</table>\n",
       "</div>"
      ],
      "text/plain": [
       "   Age  Salary          reg_2\n",
       "0   26  110000  113172.131686\n",
       "1   52  278000  279589.199700\n",
       "2   38  314000  230852.492542\n",
       "3   60  302000  264619.954608\n",
       "4   64  261000  245457.479687\n",
       "5   41  227000  249324.596154\n",
       "6   34  200000  199410.940506\n",
       "7   46  233000  270379.891864\n",
       "8   57  311000  273882.750384\n",
       "9   55  298000  277625.061657"
      ]
     },
     "execution_count": 29,
     "metadata": {},
     "output_type": "execute_result"
    }
   ],
   "source": [
    "data_test"
   ]
  },
  {
   "cell_type": "code",
   "execution_count": 30,
   "id": "c060ebc2-d25e-4cab-8d5b-a80f7618ba51",
   "metadata": {},
   "outputs": [
    {
     "data": {
      "text/plain": [
       "np.float64(34273.2808341273)"
      ]
     },
     "execution_count": 30,
     "metadata": {},
     "output_type": "execute_result"
    }
   ],
   "source": [
    "rmse_test = (data_test[\"Salary\"] - data_test[\"reg_2\"]).std()\n",
    "rmse_test"
   ]
  }
 ],
 "metadata": {
  "kernelspec": {
   "display_name": "Python 3 (ipykernel)",
   "language": "python",
   "name": "python3"
  },
  "language_info": {
   "codemirror_mode": {
    "name": "ipython",
    "version": 3
   },
   "file_extension": ".py",
   "mimetype": "text/x-python",
   "name": "python",
   "nbconvert_exporter": "python",
   "pygments_lexer": "ipython3",
   "version": "3.13.0"
  }
 },
 "nbformat": 4,
 "nbformat_minor": 5
}
